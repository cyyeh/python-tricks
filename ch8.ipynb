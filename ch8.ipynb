{
 "cells": [
  {
   "cell_type": "markdown",
   "metadata": {},
   "source": [
    "# Chapter8: Pythonic Productivity Techniques"
   ]
  },
  {
   "cell_type": "markdown",
   "metadata": {},
   "source": [
    "## 8.1 Exploring Python Modules and Objects"
   ]
  },
  {
   "cell_type": "markdown",
   "metadata": {},
   "source": [
    "### Key Takeaways"
   ]
  },
  {
   "cell_type": "markdown",
   "metadata": {},
   "source": [
    "- Use the built-in dir() function to interactively explore Python modules and classes from an interpreter session.\n",
    "- The help() built-in lets you browse through the documentation right from your interpreter (hit q to exit.)"
   ]
  },
  {
   "cell_type": "markdown",
   "metadata": {},
   "source": [
    "## 8.2 Isolating Project Dependencies With Virtualenv"
   ]
  },
  {
   "cell_type": "markdown",
   "metadata": {},
   "source": [
    "“If you’re looking for a deep dive on this subject with additional productivity tips, be sure to check out my [Managing Python Dependencies course available on dbader.org](https://dbader.org/products/managing-python-dependencies/?utm_source=python-tricks-book&utm_medium=pdf&utm_campaign=pytricks-book).”\n",
    "\n",
    "Excerpt From: Dan Bader. “Python Tricks: The Book.” Apple Books. "
   ]
  },
  {
   "cell_type": "markdown",
   "metadata": {},
   "source": [
    "### Key Takeaways"
   ]
  },
  {
   "cell_type": "markdown",
   "metadata": {},
   "source": [
    "- Virtual environments keep your project dependencies separated. They help you avoid version conflicts between packages and different versions of the Python runtime.\n",
    "- As a best practice, all of your Python projects should use virtual environments to store their dependencies. This will help avoid headaches."
   ]
  },
  {
   "cell_type": "code",
   "execution_count": null,
   "metadata": {},
   "outputs": [],
   "source": []
  }
 ],
 "metadata": {
  "kernelspec": {
   "display_name": "Python 3",
   "language": "python",
   "name": "python3"
  },
  "language_info": {
   "codemirror_mode": {
    "name": "ipython",
    "version": 3
   },
   "file_extension": ".py",
   "mimetype": "text/x-python",
   "name": "python",
   "nbconvert_exporter": "python",
   "pygments_lexer": "ipython3",
   "version": "3.6.5"
  }
 },
 "nbformat": 4,
 "nbformat_minor": 4
}
