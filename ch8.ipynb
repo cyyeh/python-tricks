{
 "cells": [
  {
   "cell_type": "markdown",
   "metadata": {},
   "source": [
    "# Chapter8: Pythonic Productivity Techniques"
   ]
  },
  {
   "cell_type": "markdown",
   "metadata": {},
   "source": [
    "## 8.1 Exploring Python Modules and Objects"
   ]
  },
  {
   "cell_type": "markdown",
   "metadata": {},
   "source": [
    "### Key Takeaways"
   ]
  },
  {
   "cell_type": "markdown",
   "metadata": {},
   "source": [
    "- Use the built-in dir() function to interactively explore Python modules and classes from an interpreter session.\n",
    "- The help() built-in lets you browse through the documentation right from your interpreter (hit q to exit.)"
   ]
  },
  {
   "cell_type": "markdown",
   "metadata": {},
   "source": [
    "## 8.2 Isolating Project Dependencies With Virtualenv"
   ]
  },
  {
   "cell_type": "markdown",
   "metadata": {},
   "source": [
    "“If you’re looking for a deep dive on this subject with additional productivity tips, be sure to check out my [Managing Python Dependencies course available on dbader.org](https://dbader.org/products/managing-python-dependencies/?utm_source=python-tricks-book&utm_medium=pdf&utm_campaign=pytricks-book).”\n",
    "\n",
    "Excerpt From: Dan Bader. “Python Tricks: The Book.” Apple Books. "
   ]
  },
  {
   "cell_type": "markdown",
   "metadata": {},
   "source": [
    "### Key Takeaways"
   ]
  },
  {
   "cell_type": "markdown",
   "metadata": {},
   "source": [
    "- Virtual environments keep your project dependencies separated. They help you avoid version conflicts between packages and different versions of the Python runtime.\n",
    "- As a best practice, all of your Python projects should use virtual environments to store their dependencies. This will help avoid headaches."
   ]
  },
  {
   "cell_type": "markdown",
   "metadata": {},
   "source": [
    "## 8.3 Peeking Behind the Bytecode Curtain"
   ]
  },
  {
   "cell_type": "markdown",
   "metadata": {},
   "source": [
    "“When the CPython interpreter executes your program, it first translates it into a sequence of bytecode instructions. Bytecode is an intermediate language for the Python virtual machine that’s used as a performance optimization.\n",
    "\n",
    "Instead of directly executing the human-readable source code, compact numeric codes, constants, and references are used that represent the result of compiler parsing and semantic analysis.\n",
    "\n",
    "This saves time and memory for repeated executions of programs or parts of programs. For example, the bytecode resulting from this compilation step is cached on disk in .pyc and .pyo files so that executing the same Python file is faster the second time around.\n",
    "\n",
    "And yet, I find it very enlightening to see how the sausage is made and to peek behind the abstractions provided by the CPython interpreter. Understanding at least some of the inner workings can help you write more performant code (when that’s important). And it’s also a lot of fun.”\n",
    "\n",
    "Excerpt From: Dan Bader. “Python Tricks: The Book.” Apple Books. "
   ]
  },
  {
   "cell_type": "code",
   "execution_count": 2,
   "metadata": {},
   "outputs": [],
   "source": [
    "def greet(name):\n",
    "    return 'Helo, ' + name + '!'"
   ]
  },
  {
   "cell_type": "code",
   "execution_count": 4,
   "metadata": {},
   "outputs": [
    {
     "data": {
      "text/plain": [
       "b'd\\x01|\\x00\\x17\\x00d\\x02\\x17\\x00S\\x00'"
      ]
     },
     "execution_count": 4,
     "metadata": {},
     "output_type": "execute_result"
    }
   ],
   "source": [
    "greet.__code__.co_code"
   ]
  },
  {
   "cell_type": "code",
   "execution_count": 5,
   "metadata": {},
   "outputs": [
    {
     "data": {
      "text/plain": [
       "(None, 'Helo, ', '!')"
      ]
     },
     "execution_count": 5,
     "metadata": {},
     "output_type": "execute_result"
    }
   ],
   "source": [
    "greet.__code__.co_consts"
   ]
  },
  {
   "cell_type": "code",
   "execution_count": 6,
   "metadata": {},
   "outputs": [
    {
     "data": {
      "text/plain": [
       "('name',)"
      ]
     },
     "execution_count": 6,
     "metadata": {},
     "output_type": "execute_result"
    }
   ],
   "source": [
    "greet.__code__.co_varnames"
   ]
  },
  {
   "cell_type": "code",
   "execution_count": 7,
   "metadata": {},
   "outputs": [
    {
     "name": "stdout",
     "output_type": "stream",
     "text": [
      "  2           0 LOAD_CONST               1 ('Helo, ')\n",
      "              2 LOAD_FAST                0 (name)\n",
      "              4 BINARY_ADD\n",
      "              6 LOAD_CONST               2 ('!')\n",
      "              8 BINARY_ADD\n",
      "             10 RETURN_VALUE\n"
     ]
    }
   ],
   "source": [
    "import dis\n",
    "\n",
    "dis.dis(greet)"
   ]
  },
  {
   "cell_type": "markdown",
   "metadata": {},
   "source": [
    "“It can be a lot of fun to define your own bytecode languages and to build little virtual machine experiments for them. A book on this topic that I’d recommend is Compiler Design: Virtual Machines by Wilhelm and Seidl.”\n",
    "\n",
    "Excerpt From: Dan Bader. “Python Tricks: The Book.” Apple Books. "
   ]
  },
  {
   "cell_type": "markdown",
   "metadata": {},
   "source": [
    "### Key Takeaways"
   ]
  },
  {
   "cell_type": "markdown",
   "metadata": {},
   "source": [
    "- CPython executes programs by first translating them into an intermediate bytecode and then running the bytecode on a stack-based virtual machine.\n",
    "- You can use the built-in dis module to peek behind the scenes and inspect the bytecode.\n",
    "- Study up on virtual machines—it’s worth it."
   ]
  },
  {
   "cell_type": "code",
   "execution_count": null,
   "metadata": {},
   "outputs": [],
   "source": []
  }
 ],
 "metadata": {
  "kernelspec": {
   "display_name": "Python 3",
   "language": "python",
   "name": "python3"
  },
  "language_info": {
   "codemirror_mode": {
    "name": "ipython",
    "version": 3
   },
   "file_extension": ".py",
   "mimetype": "text/x-python",
   "name": "python",
   "nbconvert_exporter": "python",
   "pygments_lexer": "ipython3",
   "version": "3.6.5"
  }
 },
 "nbformat": 4,
 "nbformat_minor": 4
}
